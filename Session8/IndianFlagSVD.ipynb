{
  "nbformat": 4,
  "nbformat_minor": 0,
  "metadata": {
    "colab": {
      "name": "IndianFlagSVD.ipynb",
      "provenance": [],
      "collapsed_sections": []
    },
    "kernelspec": {
      "name": "python3",
      "display_name": "Python 3"
    }
  },
  "cells": [
    {
      "cell_type": "code",
      "metadata": {
        "id": "BQqDDgIAoagy",
        "colab_type": "code",
        "colab": {
          "base_uri": "https://localhost:8080/",
          "height": 231
        },
        "outputId": "8ce8e563-4497-4c60-94b9-fa8d72205cc3"
      },
      "source": [
        "import numpy as np\n",
        "import cv2\n",
        "from google.colab.patches import cv2_imshow\n",
        "from matplotlib import pyplot as plt\n",
        "import plotly\n",
        "from skimage import io\n",
        "from skimage import morphology as morp\n",
        "import plotly.express as px\n",
        "import plotly.graph_objects as go\n",
        "\n",
        "I = cv2.imread('indianflag.jpg', cv2.IMREAD_GRAYSCALE)\n",
        "print (I.shape)\n",
        "cv2_imshow(I)\n",
        "\n",
        "\n",
        "\n"
      ],
      "execution_count": 1,
      "outputs": [
        {
          "output_type": "error",
          "ename": "AttributeError",
          "evalue": "ignored",
          "traceback": [
            "\u001b[0;31m---------------------------------------------------------------------------\u001b[0m",
            "\u001b[0;31mAttributeError\u001b[0m                            Traceback (most recent call last)",
            "\u001b[0;32m<ipython-input-1-09b6bd2927c4>\u001b[0m in \u001b[0;36m<module>\u001b[0;34m()\u001b[0m\n\u001b[1;32m     10\u001b[0m \u001b[0;34m\u001b[0m\u001b[0m\n\u001b[1;32m     11\u001b[0m \u001b[0mI\u001b[0m \u001b[0;34m=\u001b[0m \u001b[0mcv2\u001b[0m\u001b[0;34m.\u001b[0m\u001b[0mimread\u001b[0m\u001b[0;34m(\u001b[0m\u001b[0;34m'indianflag.jpg'\u001b[0m\u001b[0;34m,\u001b[0m \u001b[0mcv2\u001b[0m\u001b[0;34m.\u001b[0m\u001b[0mIMREAD_GRAYSCALE\u001b[0m\u001b[0;34m)\u001b[0m\u001b[0;34m\u001b[0m\u001b[0;34m\u001b[0m\u001b[0m\n\u001b[0;32m---> 12\u001b[0;31m \u001b[0mprint\u001b[0m \u001b[0;34m(\u001b[0m\u001b[0mI\u001b[0m\u001b[0;34m.\u001b[0m\u001b[0mshape\u001b[0m\u001b[0;34m)\u001b[0m\u001b[0;34m\u001b[0m\u001b[0;34m\u001b[0m\u001b[0m\n\u001b[0m\u001b[1;32m     13\u001b[0m \u001b[0mcv2_imshow\u001b[0m\u001b[0;34m(\u001b[0m\u001b[0mI\u001b[0m\u001b[0;34m)\u001b[0m\u001b[0;34m\u001b[0m\u001b[0;34m\u001b[0m\u001b[0m\n\u001b[1;32m     14\u001b[0m \u001b[0;34m\u001b[0m\u001b[0m\n",
            "\u001b[0;31mAttributeError\u001b[0m: 'NoneType' object has no attribute 'shape'"
          ]
        }
      ]
    },
    {
      "cell_type": "code",
      "metadata": {
        "id": "l1-YDmKWpy48",
        "colab_type": "code",
        "colab": {}
      },
      "source": [
        "print(I.shape)\n",
        "print(I.shape[0]*I.shape[1])\n",
        "print(I)"
      ],
      "execution_count": 0,
      "outputs": []
    },
    {
      "cell_type": "code",
      "metadata": {
        "id": "NLNxKr0BpkUk",
        "colab_type": "code",
        "colab": {}
      },
      "source": [
        "u,s,v=np.linalg.svd(I)\n",
        "print(u.shape,np.diag(s).shape,v.shape)\n",
        "\n",
        "D=np.hstack([np.diag(s),np.zeros((180,90))])\n",
        "print(D.shape)\n",
        "UD=np.dot(u,D)\n",
        "UDV=np.dot(UD,v)\n",
        "print(UDV.shape)\n",
        "cv2_imshow(UDV)\n"
      ],
      "execution_count": 0,
      "outputs": []
    },
    {
      "cell_type": "code",
      "metadata": {
        "id": "7F-ttRIFqVqz",
        "colab_type": "code",
        "colab": {}
      },
      "source": [
        "\n",
        "\n",
        "U10=u[::,:10:]\n",
        "print(U10.shape)\n",
        "\n",
        "V10=v[:10:,::]\n",
        "S10=D[:10,:10:]\n",
        "print(S10.shape)\n",
        "print(V10.shape)\n",
        "UDV10=np.dot(U10,S10)\n",
        "print(UDV10.shape)\n",
        "UDDV=np.dot(UDV10,V10)\n",
        "print(UDDV.shape)\n",
        "cv2_imshow(UDDV)\n",
        "\n",
        "\n"
      ],
      "execution_count": 0,
      "outputs": []
    },
    {
      "cell_type": "code",
      "metadata": {
        "id": "zrwhbjuyuBXX",
        "colab_type": "code",
        "colab": {}
      },
      "source": [
        "compratio=(I.shape[0]*I.shape[1])/(U10.shape[0]*U10.shape[1]+V10.shape[0]*V10.shape[1] + S10.shape[0]*S10.shape[1])\n",
        "\n",
        "print(compratio)\n"
      ],
      "execution_count": 0,
      "outputs": []
    },
    {
      "cell_type": "code",
      "metadata": {
        "id": "7SEssxbOw_XS",
        "colab_type": "code",
        "colab": {}
      },
      "source": [
        ""
      ],
      "execution_count": 0,
      "outputs": []
    }
  ]
}