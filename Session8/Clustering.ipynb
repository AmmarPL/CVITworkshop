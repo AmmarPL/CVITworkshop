{
  "nbformat": 4,
  "nbformat_minor": 0,
  "metadata": {
    "colab": {
      "name": "Clustering.ipynb",
      "provenance": []
    },
    "kernelspec": {
      "name": "python3",
      "display_name": "Python 3"
    }
  },
  "cells": [
    {
      "cell_type": "code",
      "metadata": {
        "id": "jim9igUsS4rv",
        "colab_type": "code",
        "colab": {}
      },
      "source": [
        "import numpy as np\n",
        "import matplotlib.pyplot as plt\n",
        "import matplotlib.cm as cm\n",
        "from sklearn.metrics.pairwise import euclidean_distances\n",
        "from sklearn.datasets import make_circles\n",
        "import math\n",
        "import random as rd"
      ],
      "execution_count": 0,
      "outputs": []
    },
    {
      "cell_type": "code",
      "metadata": {
        "id": "pW5KQBMzT8Hp",
        "colab_type": "code",
        "colab": {}
      },
      "source": [
        "def plot_clusters(points, cluster_labels, show_annotation=True):\n",
        "  offset=0.01\n",
        "  uniquelabels=np.unique(cluster_labels)\n",
        "  print(uniquelabels)\n",
        "  for cluster in uniquelabels:\n",
        "    newx=[]\n",
        "    newy=[]\n",
        "    for i in range(len(cluster_labels)):\n",
        "      if(cluster_labels[i]==cluster):\n",
        "        newx.append(points[i][0])\n",
        "        newy.append(points[i][1])\n",
        "    plt.scatter(newx,newy,label=cluster)\n",
        "  if(show_annotation==True):\n",
        "    for i in range(points.shape[0]):\n",
        "      plt.annotate(i,(points[i,0]+offset,points[i,1]+offset))\n",
        "  plt.legend()"
      ],
      "execution_count": 0,
      "outputs": []
    },
    {
      "cell_type": "code",
      "metadata": {
        "id": "3kZGQcAqbqEr",
        "colab_type": "code",
        "colab": {}
      },
      "source": [
        "def heatmap(grid, xlabels, ylabels, xrot=90):   \n",
        "    cmap = cm.get_cmap(\"viridis\")\n",
        "    plt.imshow(grid, cmap=cmap)\n",
        "    plt.xticks(np.arange(0,grid.shape[1],step=1), xlabels, rotation=xrot)\n",
        "    plt.yticks(np.arange(0, grid.shape[0], step=1), ylabels)"
      ],
      "execution_count": 0,
      "outputs": []
    },
    {
      "cell_type": "code",
      "metadata": {
        "id": "1y5m-rbBgyjZ",
        "colab_type": "code",
        "colab": {}
      },
      "source": [
        "def initialise(points,K):\n",
        "\n",
        "  cluster_centers=[]\n",
        "  count=0\n",
        "  while(count<K):\n",
        "\n",
        "    rdpt=rd.randint(0,len(points)-1)\n",
        "    if rdpt not in cluster_centers:\n",
        "      cluster_centers.append(rdpt)\n",
        "      count+=1\n",
        "\n",
        "  return np.array(cluster_centers)\n",
        "\n",
        "# ptindex=initialise(points,4)\n",
        "# print(ptindex)\n",
        "\n",
        "# initarray=[]\n",
        "# for i in ptindex:\n",
        "#   initarray.append(points[i].tolist())\n",
        "# print(initarray)\n",
        "\n"
      ],
      "execution_count": 0,
      "outputs": []
    },
    {
      "cell_type": "code",
      "metadata": {
        "id": "Q4hPwGfAkBrV",
        "colab_type": "code",
        "colab": {}
      },
      "source": [
        "def assign(points,initarray):\n",
        "  clusters=np.zeros((len(points)))\n",
        "  for pt in range(len(points)):\n",
        "    min=1000000\n",
        "    for i in range(len(initarray)):\n",
        "      if(math.sqrt((initarray[i][0]-points[pt][0])**2 + (initarray[i][0]-points[pt][0])**2)<min):\n",
        "        min=math.sqrt((initarray[i][0]-points[pt][0])**2 + (initarray[i][0]-points[pt][0])**2)\n",
        "        clusters[pt]=i\n",
        "  return clusters\n",
        "        \n",
        "# cluster_labels=assign(points,initarray)\n",
        "# print(cluster_labels)\n",
        "\n",
        "def assign1(points,cluster_centers):\n",
        "  return np.argmin(euclidean_distances(points,cluster_centers),axis=1)\n",
        "\n",
        "# print(assign1(points,initarray))\n",
        "\n"
      ],
      "execution_count": 0,
      "outputs": []
    },
    {
      "cell_type": "code",
      "metadata": {
        "id": "3_eOd8vxpqs7",
        "colab_type": "code",
        "colab": {
          "base_uri": "https://localhost:8080/",
          "height": 85
        },
        "outputId": "f1972c8c-daad-4c92-d388-71d41d898ee2"
      },
      "source": [
        "\n",
        "\n",
        "def recalculate_cluster_centers(points,cluster_labels,K):\n",
        "  # for i in range(len(cluster_labels)):\n",
        "\n",
        "  # cluster_centers=points[cluster_labels].mean()\n",
        "  cluster_centers=np.zeros((K,2))\n",
        "  for label in range(K):\n",
        "    cluster_centers[label,:]= points[cluster_labels==label,:].mean(axis=0)\n",
        "  return cluster_centers\n",
        "\n",
        "np.random.seed(2)\n",
        "cluster_centers = np.array([[0,0], [1,1], [2,2]])\n",
        "# print(points)\n",
        "cluster_labels = assign(points, cluster_centers)\n",
        "print(cluster_labels)\n",
        "recalculate_cluster_centers(points, cluster_labels, 3)\n",
        "\n",
        "\n"
      ],
      "execution_count": 162,
      "outputs": [
        {
          "output_type": "stream",
          "text": [
            "[1. 1. 1. 0. 1. 2. 2. 1. 2. 2. 1. 2. 1. 1.]\n"
          ],
          "name": "stdout"
        },
        {
          "output_type": "execute_result",
          "data": {
            "text/plain": [
              "array([[0.48113208, 1.10315789],\n",
              "       [1.13267453, 0.81434924],\n",
              "       [1.99899633, 0.90784977]])"
            ]
          },
          "metadata": {
            "tags": []
          },
          "execution_count": 162
        }
      ]
    },
    {
      "cell_type": "code",
      "metadata": {
        "id": "A8s6ViogsZxh",
        "colab_type": "code",
        "colab": {}
      },
      "source": [
        "def Kmeans(points,K):\n",
        "  cluster_labels = np.zeros((points.shape[0]))\n",
        "\n",
        "  cluster_centers1=initialise(points,K)\n",
        "  # print(cluster_centers1)\n",
        "  initarray=[]\n",
        "  for i in cluster_centers1:\n",
        "    initarray.append(points[i].tolist())\n",
        "  cluster_centers=np.array(initarray)\n",
        "  # print(cluster_centers.shape,'cen')\n",
        "\n",
        "\n",
        "\n",
        "\n",
        "  initial_centers=cluster_centers.copy()\n",
        "\n",
        "  old_cluster_centers=np.zeros(cluster_centers.shape)\n",
        "  # print(old_cluster_centers,cluster_centers)\n",
        "  # print(not(old_cluster_centers==cluster_centers).all(),'ok')\n",
        "  while not(old_cluster_centers==cluster_centers).all():\n",
        "    # pass\n",
        "  # while  not ((old_cluster_centers==cluster_centers).all()):\n",
        "  #   print(\"hello\")\n",
        "    old_cluster_centers=cluster_centers.copy()\n",
        "\n",
        "    cluster_labels=np.array(assign1(points,cluster_centers))\n",
        "    # print(cluster_labels.shape,points.shape,\"label\")\n",
        "    cluster_centers=recalculate_cluster_centers(points,cluster_labels,K)\n",
        "  return cluster_labels,initial_centers,cluster_centers\n",
        "\n"
      ],
      "execution_count": 0,
      "outputs": []
    },
    {
      "cell_type": "code",
      "metadata": {
        "id": "aiCGc61TxoEE",
        "colab_type": "code",
        "colab": {
          "base_uri": "https://localhost:8080/",
          "height": 282
        },
        "outputId": "838ad547-0673-4e54-e751-09d6ce43a583"
      },
      "source": [
        "np.random.seed(2)\n",
        "K = 5\n",
        "n=10\n",
        "X = []\n",
        "for i in range(5):\n",
        "    X.append(np.random.normal(2**i,(i+1)/5, size=(20,2)))\n",
        "\n",
        "centers=np.zeros((K,2))\n",
        "points = np.vstack(X)\n",
        "for i in range(n):\n",
        "\n",
        "  cluster_labels,initial_centers,final_centers=Kmeans(points,5)\n",
        "  centers+=sorted(final_centers.tolist(),key= lambda x:x[0])\n",
        "centers/=n\n",
        "# plot_clusters(points, np.zeros((points.shape[0])), show_annotation=True)\n",
        "labels=assign1(points,centers)\n",
        "\n",
        "plot_clusters(points,labels,show_annotation=False)\n",
        "\n"
      ],
      "execution_count": 172,
      "outputs": [
        {
          "output_type": "stream",
          "text": [
            "[0 1 2 3 4]\n"
          ],
          "name": "stdout"
        },
        {
          "output_type": "display_data",
          "data": {
            "image/png": "[encoded data removed]",
            "text/plain": [
              "<Figure size 432x288 with 1 Axes>"
            ]
          },
          "metadata": {
            "tags": [],
            "needs_background": "light"
          }
        }
      ]
    },
    {
      "cell_type": "code",
      "metadata": {
        "id": "bO7sy9Cyx97F",
        "colab_type": "code",
        "colab": {
          "base_uri": "https://localhost:8080/",
          "height": 282
        },
        "outputId": "ef067db2-25b9-47d6-8389-ec7ef910a853"
      },
      "source": [
        "\n",
        "points, _ = make_circles(100, noise=0.06, factor=0.5)\n",
        "negpos=np.zeros(points.shape)\n",
        "\n",
        "for i in range(len(points)):\n",
        "  negpos[i][0]=points[i][0]/np.abs(points[i][0])\n",
        "  negpos[i][1]=points[i][1]/np.abs(points[i][1])\n",
        "# print(negpos)\n",
        "points=np.square(points)\n",
        "\n",
        "# plt.scatter(points[:,0], points[:,1])\n",
        "\n",
        "\n",
        "cluster_labels,initial_centers,final_centers=Kmeans(points,2)\n",
        "\n",
        "# plot_clusters(points,cluster_labels,show_annotation=False)\n",
        "\n",
        "points=np.sqrt(points)\n",
        "for i in range(len(points)):\n",
        "  points[i][0]*=negpos[i][0]\n",
        "  points[i][1]*=negpos[i][1]\n",
        "plot_clusters(points,cluster_labels,show_annotation=False)\n",
        "\n",
        "\n",
        "\n",
        "\n"
      ],
      "execution_count": 171,
      "outputs": [
        {
          "output_type": "stream",
          "text": [
            "[0 1]\n"
          ],
          "name": "stdout"
        },
        {
          "output_type": "display_data",
          "data": {
            "image/png": "[encoded data removed]",
            "text/plain": [
              "<Figure size 432x288 with 1 Axes>"
            ]
          },
          "metadata": {
            "tags": [],
            "needs_background": "light"
          }
        }
      ]
    },
    {
      "cell_type": "code",
      "metadata": {
        "id": "KpuY3F1wDT6o",
        "colab_type": "code",
        "colab": {
          "base_uri": "https://localhost:8080/",
          "height": 279
        },
        "outputId": "46437e2c-4686-49a1-844c-f2f3d82e9565"
      },
      "source": [
        "\n",
        "import json,os\n",
        "\n",
        "# f = open(\"final_Ammar.json\", \"r\")\n",
        "data=[]\n",
        "for i in os.listdir():\n",
        "  if(i[0:5]=='final'):\n",
        "    f=open(i,\"r\")\n",
        "    data.append(json.loads(f.read()))\n",
        "    f.close()\n",
        "\n",
        "# print(data)\n",
        "# data=json.load()\n",
        "points=[]\n",
        "names=[]\n",
        "for i in data:\n",
        "  if(i['username']!='Akshat'):\n",
        "    filmno=len(i['movie_ids'])\n",
        "    points.append([i['genre_freq_divided']['Action']/i['genre_freq_divided']['Romance'],i['genre_freq_divided']['Comedy']/i['genre_freq_divided']['Drama']])\n",
        "    names.append(i['username'])\n",
        "points=np.array(points)\n",
        "\n",
        "cluster_labels,initial_centers,final_centers=Kmeans(points,4)\n",
        "\n",
        "\n",
        "# def plot_clusters(points, cluster_labels, show_annotation=True):\n",
        "offset=0.01\n",
        "uniquelabels=np.unique(cluster_labels)\n",
        "for cluster in uniquelabels:\n",
        "  newx=[]\n",
        "  newy=[]\n",
        "  for i in range(len(cluster_labels)):\n",
        "    if(cluster_labels[i]==cluster):\n",
        "      newx.append(points[i][0])\n",
        "      newy.append(points[i][1])\n",
        "  plt.scatter(newx,newy,label=cluster)\n",
        "# if(show_annotation==True):\n",
        "for i in range(points.shape[0]):\n",
        "  plt.annotate(names[i],(points[i,0]+offset,points[i,1]+offset))\n",
        "plt.legend()\n",
        "plt.xlabel(\"Ratio of Action to romance\")\n",
        "plt.ylabel(\"Ratio of Comedy to Drama\")\n",
        "\n",
        "plt.show()\n",
        "\n",
        "# plt.scatter(x,y)\n",
        "\n"
      ],
      "execution_count": 166,
      "outputs": [
        {
          "output_type": "display_data",
          "data": {
            "image/png": "[encoded data removed]",
            "text/plain": [
              "<Figure size 432x288 with 1 Axes>"
            ]
          },
          "metadata": {
            "tags": [],
            "needs_background": "light"
          }
        }
      ]
    },
    {
      "cell_type": "code",
      "metadata": {
        "id": "z4zcbVNfAMXE",
        "colab_type": "code",
        "colab": {
          "base_uri": "https://localhost:8080/",
          "height": 34
        },
        "outputId": "50afa001-5219-44a0-f213-5da0080f2853"
      },
      "source": [
        "()"
      ],
      "execution_count": 167,
      "outputs": [
        {
          "output_type": "execute_result",
          "data": {
            "text/plain": [
              "()"
            ]
          },
          "metadata": {
            "tags": []
          },
          "execution_count": 167
        }
      ]
    }
  ]
}