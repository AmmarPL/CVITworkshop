{
  "nbformat": 4,
  "nbformat_minor": 0,
  "metadata": {
    "colab": {
      "name": "Day5probability.ipynb",
      "provenance": [],
      "collapsed_sections": []
    },
    "kernelspec": {
      "name": "python3",
      "display_name": "Python 3"
    }
  },
  "cells": [
    {
      "cell_type": "code",
      "metadata": {
        "id": "dKcn3Yp51N4H",
        "colab_type": "code",
        "colab": {}
      },
      "source": [
        ""
      ],
      "execution_count": 0,
      "outputs": []
    },
    {
      "cell_type": "markdown",
      "metadata": {
        "id": "VaAXhlYb1PWV",
        "colab_type": "text"
      },
      "source": [
        "# Programming Exercise: Robot Localization"
      ]
    },
    {
      "cell_type": "code",
      "metadata": {
        "id": "1DCjzwn61jDk",
        "colab_type": "code",
        "colab": {}
      },
      "source": [
        ""
      ],
      "execution_count": 0,
      "outputs": []
    },
    {
      "cell_type": "markdown",
      "metadata": {
        "id": "-o7tHiTc6hGm",
        "colab_type": "text"
      },
      "source": [
        "#### Cancer Test Example\n",
        "Let us apply Bayes' Rule to a Cancer Test Example which is a very common example in Statistic classes.\n",
        "Suppose, there is a certain type of cancer which is extremely rare.\n",
        "\n",
        "Let,\n",
        "\\begin{equation}\n",
        "P(C) = 0.001\n",
        "\\end{equation}\n",
        "In other words, $1$ in every $1000$ people has this cancer. Can you compute the probability of not having cancer?\n",
        "\\begin{equation}\n",
        "P(\\neg C) = ?\n",
        "\\end{equation}\n",
        "\n",
        "The test for cancer is not $100\\%$ accurate. Let us say, probability of the test being positive given someone has cancer is,\n",
        "\\begin{equation}\n",
        "P(pos | C) = 0.8\n",
        "\\end{equation}\n",
        "Can you compute the probability that the test is negative given someone has cancer?\n",
        "\\begin{equation}\n",
        "P(neg | C) = ?\n",
        "\\end{equation}\n",
        "\n",
        "Similarly, the probability of a test being positive given that someone has no cancer is $P(pos | \\neg C) = 0.1$. Can you compute the probability that the test is negative given someone has no cancer?\n",
        "\\begin{equation}\n",
        "P(neg | \\neg C) = ?\n",
        "\\end{equation}\n",
        "\n",
        "Can you compute the following?\n",
        "\\begin{equation}\n",
        "P(C | pos) = ?\n",
        "\\end{equation}\n",
        "Interpret the quantity you computed in words!\n",
        "\n",
        "What we computed is very interesting. We computed probability of having cancer given the test results and how likely the disease is."
      ]
    },
    {
      "cell_type": "code",
      "metadata": {
        "id": "WKaYvKXt6iHG",
        "colab_type": "code",
        "outputId": "1759fe29-a8c0-4aa9-bc0e-6ef9b8560051",
        "colab": {
          "base_uri": "https://localhost:8080/",
          "height": 34
        }
      },
      "source": [
        "pnotc=0.999\n",
        "pneggivenc=0.2\n",
        "pneggivennotc=0.9\n",
        "\n",
        "#Required probability\n",
        "pcgivenpos=0.8*0.001/(0.8*0.001+0.1*0.999)\n",
        "\n",
        "print(pcgivenpos)"
      ],
      "execution_count": 0,
      "outputs": [
        {
          "output_type": "stream",
          "text": [
            "0.007944389275074478\n"
          ],
          "name": "stdout"
        }
      ]
    },
    {
      "cell_type": "code",
      "metadata": {
        "id": "2AGlxYCB7XRc",
        "colab_type": "code",
        "colab": {}
      },
      "source": [
        "def init_distribution(n):\n",
        "    p = []\n",
        "    # Add your code here\n",
        "    p = [ 1/n for i in range(n) ]\n",
        "    # End your code here\n",
        "    return p"
      ],
      "execution_count": 0,
      "outputs": []
    },
    {
      "cell_type": "code",
      "metadata": {
        "id": "las0Nn42-z4g",
        "colab_type": "code",
        "outputId": "e1567616-c847-4a6c-8e06-126fa0b0acc6",
        "colab": {
          "base_uri": "https://localhost:8080/",
          "height": 34
        }
      },
      "source": [
        "init_distribution(5)"
      ],
      "execution_count": 0,
      "outputs": [
        {
          "output_type": "execute_result",
          "data": {
            "text/plain": [
              "[0.2, 0.2, 0.2, 0.2, 0.2]"
            ]
          },
          "metadata": {
            "tags": []
          },
          "execution_count": 2
        }
      ]
    },
    {
      "cell_type": "code",
      "metadata": {
        "id": "jxTvINDV_ZX1",
        "colab_type": "code",
        "outputId": "a842990b-83fc-4e2b-c99c-ccbea0af88f4",
        "colab": {
          "base_uri": "https://localhost:8080/",
          "height": 34
        }
      },
      "source": [
        "#Modify the code below so that the function sense, which \n",
        "#takes p and Z as inputs, will output the normalized \n",
        "#probability distribution, q, after multiplying the entries \n",
        "# in p according to the color in the corresponding cell in world,\n",
        "# followed by normalization of the probability values\n",
        "world=['green', 'red', 'red', 'green', 'green']\n",
        "# p(bt,sr)=p(sr,bt)/(p(sr))\n",
        "import numpy as np\n",
        "\n",
        "\n",
        "def sense(p, Z):\n",
        "    q = np.zeros((0))\n",
        "    flag=0\n",
        "    for i in range(len(p)):\n",
        "        if(world[i]==Z):\n",
        "          q=np.hstack([q,p[i]*0.75])\n",
        "        else:\n",
        "          q=np.hstack([q,p[i]*0.25])\n",
        "    a=q.sum()\n",
        "    for i in range(len(q)):\n",
        "      q[i]=q[i]/a\n",
        "    return q\n",
        "# sense(p, 'red')\n",
        "p=[0.2,0.2,0.2,0.2,0.2]\n",
        "sense(p,'red')"
      ],
      "execution_count": 0,
      "outputs": [
        {
          "output_type": "execute_result",
          "data": {
            "text/plain": [
              "array([0.11111111, 0.33333333, 0.33333333, 0.11111111, 0.11111111])"
            ]
          },
          "metadata": {
            "tags": []
          },
          "execution_count": 7
        }
      ]
    },
    {
      "cell_type": "code",
      "metadata": {
        "id": "XSKGY7h9Gf_b",
        "colab_type": "code",
        "outputId": "d051cee7-38db-4c98-fd98-3dab446b5947",
        "colab": {
          "base_uri": "https://localhost:8080/",
          "height": 51
        }
      },
      "source": [
        "p=[0.2, 0.2, 0.2, 0.2, 0.2]\n",
        "world=['green', 'red', 'red', 'green', 'green']\n",
        "measurements = ['red', 'green']\n",
        "\n",
        "# Add your code here\n",
        "for z in measurements:\n",
        "  p=sense(p,z)\n",
        "  print(p)\n",
        "# End your code here\n"
      ],
      "execution_count": 0,
      "outputs": [
        {
          "output_type": "stream",
          "text": [
            "[0.11111111 0.33333333 0.33333333 0.11111111 0.11111111]\n",
            "[0.2 0.2 0.2 0.2 0.2]\n"
          ],
          "name": "stdout"
        }
      ]
    },
    {
      "cell_type": "code",
      "metadata": {
        "id": "AVmI2r_xCPFU",
        "colab_type": "code",
        "outputId": "d04ed387-9705-4902-e4c2-0d21a027a5d9",
        "colab": {
          "base_uri": "https://localhost:8080/",
          "height": 34
        }
      },
      "source": [
        "#Program a function that returns a new distribution \n",
        "#q, shifted to the right by U units. If U=0, q should \n",
        "#be the same as p.\n",
        "\n",
        "def move(p, U):\n",
        "  \n",
        "    # ADD CODE HERE\n",
        "    \n",
        "    q=np.roll(np.array(p),U)\n",
        "    # END CODE HERE\n",
        "    return q\n",
        "\n",
        "move([0.11, 0.33, 0.33, 0.11, 0.11], 1)\n",
        "\n",
        "\n"
      ],
      "execution_count": 0,
      "outputs": [
        {
          "output_type": "execute_result",
          "data": {
            "text/plain": [
              "array([0.11, 0.11, 0.33, 0.33, 0.11])"
            ]
          },
          "metadata": {
            "tags": []
          },
          "execution_count": 8
        }
      ]
    },
    {
      "cell_type": "code",
      "metadata": {
        "id": "DKTfEjH1Hn3J",
        "colab_type": "code",
        "outputId": "69238f49-add4-417c-ab46-ee195c33d1d8",
        "colab": {
          "base_uri": "https://localhost:8080/",
          "height": 34
        }
      },
      "source": [
        "def inmove(p,U):\n",
        "  return move(p,U-1)*0.1 + move(p,U)*0.8 + move(p,U+1)*0.1\n",
        "  # q=[0,0,0,0,0]\n",
        "  # for i in range(len(q)):\n",
        "  #   q[i]=0.1*p[(i-U+1)%len(q)] + 0.8*p[(i-U)%len(q)] + 0.1*p[(i-U-1)%len(q)]\n",
        "\n",
        "  return q\n",
        "inmove([0, 1.0, 0, 0, 0], 2)\n",
        "\n",
        "#[0,1,0.1,0,0]\n",
        "#[0,1,0.2,1,0.1]\n",
        "#[0.1,1,0.2,1.1,1.1]"
      ],
      "execution_count": 0,
      "outputs": [
        {
          "output_type": "execute_result",
          "data": {
            "text/plain": [
              "array([0. , 0. , 0.1, 0.8, 0.1])"
            ]
          },
          "metadata": {
            "tags": []
          },
          "execution_count": 9
        }
      ]
    },
    {
      "cell_type": "code",
      "metadata": {
        "id": "_AWIXCI9SO5o",
        "colab_type": "code",
        "outputId": "c8d7316f-f596-4a2a-a4eb-f03f6a4fb54e",
        "colab": {
          "base_uri": "https://localhost:8080/",
          "height": 34
        }
      },
      "source": [
        "def inmove(p,U):\n",
        "  return move(p,U-1)*0.1 + move(p,U)*0.8 + move(p,U+1)*0.1\n",
        "  # q=[0,0,0,0,0]\n",
        "  # for i in range(len(q)):\n",
        "  #   q[i]=0.1*p[(i-U+1)%len(q)] + 0.8*p[(i-U)%len(q)] + 0.1*p[(i-U-1)%len(q)]\n",
        "\n",
        "  return q\n",
        "\n",
        "def move_step(p,steps):\n",
        "  move1=p\n",
        "  for i in range(steps):\n",
        "    move1=inmove(move1,1)\n",
        "  # print(move1)\n",
        "  return move1\n",
        "print(move_step([0,1,0,0,0],100))"
      ],
      "execution_count": 0,
      "outputs": [
        {
          "output_type": "stream",
          "text": [
            "[0.20000004 0.20000014 0.20000004 0.19999989 0.19999989]\n"
          ],
          "name": "stdout"
        }
      ]
    },
    {
      "cell_type": "code",
      "metadata": {
        "id": "B9jnueVTWcTA",
        "colab_type": "code",
        "outputId": "7bb492ac-fb03-468e-d4b5-c4f3ec279957",
        "colab": {
          "base_uri": "https://localhost:8080/",
          "height": 85
        }
      },
      "source": [
        "#Putting everything together\n",
        "move1=[0.2,0.2,0.2,0.2,0.2]\n",
        "measurements=['red','green']\n",
        "motions=[1,1]\n",
        "\n",
        "p=[0.2,0.2,0.2,0.2,0.2]\n",
        "# print(sense(p,'red'))\n",
        "\n",
        "\n",
        "for i in range(2):\n",
        "  move1=sense(move1,measurements[i])\n",
        "  print(move1)\n",
        "  move1=inmove(move1,motions[i])\n",
        "  print(move1)"
      ],
      "execution_count": 0,
      "outputs": [
        {
          "output_type": "stream",
          "text": [
            "[0.11111111 0.33333333 0.33333333 0.11111111 0.11111111]\n",
            "[0.11111111 0.13333333 0.31111111 0.31111111 0.13333333]\n",
            "[0.15789474 0.06315789 0.14736842 0.44210526 0.18947368]\n",
            "[0.21157895 0.15157895 0.08105263 0.16842105 0.38736842]\n"
          ],
          "name": "stdout"
        }
      ]
    },
    {
      "cell_type": "code",
      "metadata": {
        "id": "aU-sKQ3lWOAB",
        "colab_type": "code",
        "colab": {}
      },
      "source": [
        ""
      ],
      "execution_count": 0,
      "outputs": []
    }
  ]
}