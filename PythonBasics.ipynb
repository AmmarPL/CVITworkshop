{
  "nbformat": 4,
  "nbformat_minor": 0,
  "metadata": {
    "colab": {
      "name": "Untitled1.ipynb",
      "provenance": [],
      "collapsed_sections": []
    },
    "kernelspec": {
      "name": "python3",
      "display_name": "Python 3"
    }
  },
  "cells": [
    {
      "cell_type": "code",
      "metadata": {
        "id": "oLn6ly57FLsz",
        "colab_type": "code",
        "outputId": "70baa0f8-5a89-4dc7-9c49-10b436d45cd4",
        "colab": {
          "base_uri": "https://localhost:8080/",
          "height": 68
        }
      },
      "source": [
        "#Task 1\n",
        "\n",
        "l=[1,2,3,4,5,6]\n",
        "#reverse list\n",
        "print(l[::-1])\n",
        "\n",
        "#print last 5 elements\n",
        "print(l[len(l)-5:len(l):])\n",
        "\n",
        "#delete 3rd element\n",
        "\n",
        "del l[2]\n",
        "print(l)\n"
      ],
      "execution_count": 33,
      "outputs": [
        {
          "output_type": "stream",
          "text": [
            "[6, 5, 4, 3, 2, 1]\n",
            "[2, 3, 4, 5, 6]\n",
            "[1, 2, 4, 5, 6]\n"
          ],
          "name": "stdout"
        }
      ]
    },
    {
      "cell_type": "code",
      "metadata": {
        "id": "Ma106RILJwta",
        "colab_type": "code",
        "outputId": "72f9c565-3693-42c0-83c4-368ede3d573c",
        "colab": {
          "base_uri": "https://localhost:8080/",
          "height": 102
        }
      },
      "source": [
        "#Task 2\n",
        "\n",
        "x = dict([(pow(10,r),r) for r in range(10)])\n",
        "print(x)\n",
        "print()\n",
        "\n",
        "# Task 2.1: List all the keys inside the dict \n",
        "print(x.keys())\n",
        "# Task 2.2: Remove key 100 from the dict \n",
        "x.pop(100)\n",
        "print(x)\n",
        "# Task 2.3: Convert the above dict into a list of key, value tuple. Then sort the list based on mod of the key value with number 101\n",
        "x=list(x.items())\n",
        "\n",
        "x.sort(key = lambda x: x[0]%101)\n",
        "\n",
        "print(x)"
      ],
      "execution_count": 0,
      "outputs": [
        {
          "output_type": "stream",
          "text": [
            "{1: 0, 10: 1, 100: 2, 1000: 3, 10000: 4, 100000: 5, 1000000: 6, 10000000: 7, 100000000: 8, 1000000000: 9}\n",
            "\n",
            "dict_keys([1, 10, 100, 1000, 10000, 100000, 1000000, 10000000, 100000000, 1000000000])\n",
            "{1: 0, 10: 1, 1000: 3, 10000: 4, 100000: 5, 1000000: 6, 10000000: 7, 100000000: 8, 1000000000: 9}\n",
            "[(1, 0), (10000, 4), (100000000, 8), (10, 1), (100000, 5), (1000000000, 9), (1000, 3), (10000000, 7), (1000000, 6)]\n"
          ],
          "name": "stdout"
        }
      ]
    },
    {
      "cell_type": "code",
      "metadata": {
        "id": "VR5UYqOrkOIo",
        "colab_type": "code",
        "outputId": "383f3995-6f55-458c-b3ee-748ee745b7f9",
        "colab": {
          "base_uri": "https://localhost:8080/",
          "height": 119
        }
      },
      "source": [
        "#task 3\n",
        "import numpy as np\n",
        "\n",
        "\n",
        "#if M=UDV*:\n",
        "#  then: M^-1 = (UDV*)^-1 = (V*^-1)(D^-1)(U^-1)\n",
        "def matinv(A):\n",
        "  u,s,v=np.linalg.svd(A)\n",
        "  Ainv=np.dot(v.transpose(),np.dot(np.diag(s**-1),u.transpose()))\n",
        "  return Ainv\n",
        "\n",
        "print(np.linalg.inv(np.array([[1,0,0],[0,1,0],[0,0,1]])))\n",
        "print(matinv(np.array([[1,0,0],[0,1,0],[0,0,1]])))\n",
        "\n"
      ],
      "execution_count": 39,
      "outputs": [
        {
          "output_type": "stream",
          "text": [
            "[[1. 0. 0.]\n",
            " [0. 1. 0.]\n",
            " [0. 0. 1.]]\n",
            "[[1. 0. 0.]\n",
            " [0. 1. 0.]\n",
            " [0. 0. 1.]]\n"
          ],
          "name": "stdout"
        }
      ]
    },
    {
      "cell_type": "code",
      "metadata": {
        "id": "2VsMdt7Oonia",
        "colab_type": "code",
        "colab": {
          "base_uri": "https://localhost:8080/",
          "height": 282
        },
        "outputId": "d721daf1-4857-4bcb-af3f-cc45b7c21dfb"
      },
      "source": [
        "#task 4\n",
        "import matplotlib.pyplot as plt\n",
        "x=np.linspace(-2*np.pi,2*np.pi,100)\n",
        "y_sin=np.sin(x)\n",
        "\n",
        "plt.plot(x,y_sin)\n",
        "plt.scatter(x,y_sin)"
      ],
      "execution_count": 42,
      "outputs": [
        {
          "output_type": "execute_result",
          "data": {
            "text/plain": [
              "<matplotlib.collections.PathCollection at 0x7f6015a0e198>"
            ]
          },
          "metadata": {
            "tags": []
          },
          "execution_count": 42
        },
        {
          "output_type": "display_data",
          "data": {
            "image/png": "[encoded data removed]",
            "text/plain": [
              "<Figure size 432x288 with 1 Axes>"
            ]
          },
          "metadata": {
            "tags": [],
            "needs_background": "light"
          }
        }
      ]
    },
    {
      "cell_type": "code",
      "metadata": {
        "id": "e5fzEfKBPEK6",
        "colab_type": "code",
        "colab": {}
      },
      "source": [
        ""
      ],
      "execution_count": 0,
      "outputs": []
    }
  ]
}