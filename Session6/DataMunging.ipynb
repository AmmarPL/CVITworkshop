{
  "nbformat": 4,
  "nbformat_minor": 0,
  "metadata": {
    "colab": {
      "name": "DataMunging.ipynb",
      "provenance": [],
      "collapsed_sections": []
    },
    "kernelspec": {
      "display_name": "Python 3",
      "language": "python",
      "name": "python3"
    }
  },
  "cells": [
    {
      "cell_type": "markdown",
      "metadata": {
        "id": "XvFEBIJwYD_Y",
        "colab_type": "text"
      },
      "source": [
        "#### Task overview\n",
        "We have a file that contains the gender, height and weight information. A typical line of the file is:\n",
        "\n",
        "\"Male\",66.3162319187446,170.593858104457\n",
        "\n",
        "We want to store all such lines in convenient data structures as three separate items and be able to manipulate them."
      ]
    },
    {
      "cell_type": "markdown",
      "metadata": {
        "id": "TRGuvzsMYLwb",
        "colab_type": "text"
      },
      "source": [
        "### Setup Steps"
      ]
    },
    {
      "cell_type": "code",
      "metadata": {
        "id": "ZxpjcYfxskaO",
        "colab_type": "code",
        "cellView": "both",
        "outputId": "6b2959ca-5b75-4e32-a0ea-bcf59c45f68d",
        "colab": {
          "base_uri": "https://localhost:8080/",
          "height": 34
        }
      },
      "source": [
        "#@title Run this cell to complete the setup for this Notebook\n",
        "from IPython import get_ipython\n",
        "\n",
        "ipython = get_ipython()\n",
        "\n",
        "\n",
        "#  ipython.magic(\"sx pip3 install torch\") \n",
        "ipython.magic(\"sx wget https://cdn.talentsprint.com/aiml/Experiment_related_data/Week0-part_gender_height_weight.csv\")\n",
        "ipython.magic(\"sx wget https://cdn.talentsprint.com/aiml/Experiment_related_data/Week0-full_gender_height_weight.csv\")\n",
        "from IPython.display import HTML, display\n",
        "# display(HTML('<script src=\"https://dashboard.talentsprint.com/aiml/record_ip.html?traineeId={0}&recordId={1}\"></script>'.format(getId(),submission_id)))\n",
        "print(\"Setup completed successfully\")\n",
        "\n",
        "\n"
      ],
      "execution_count": 1,
      "outputs": [
        {
          "output_type": "stream",
          "text": [
            "Setup completed successfully\n"
          ],
          "name": "stdout"
        }
      ]
    },
    {
      "cell_type": "code",
      "metadata": {
        "id": "LPV-ZL5QYD_e",
        "colab_type": "code",
        "outputId": "a30d29d3-dba2-4692-82c1-511edb843967",
        "colab": {
          "base_uri": "https://localhost:8080/",
          "height": 187
        }
      },
      "source": [
        "## We take a look at the contents of the file \n",
        "## by using the shell command head\n",
        "!head Week0-part_gender_height_weight.csv"
      ],
      "execution_count": 6,
      "outputs": [
        {
          "output_type": "stream",
          "text": [
            "\"Gender\",\"Height\",\"Weight\"\n",
            "\"Male\",73.847017017515,241.893563180437\n",
            "\"Male\",68.7819040458903,162.310472521300\n",
            "\"Male\",74.1101053917849,212.7408555565\n",
            "\"Male\",71.7309784033377,220.042470303077\n",
            "\"Male\",69.8817958611153,206.349800623871\n",
            "\"Male\",67.2530156878065,152.212155757083\n",
            "\"Male\",68.7850812516616,183.927888604031\n",
            "\"Male\",68.3485155115879,167.971110489509\n",
            "\"Male\",67.018949662883,175.92944039571\n"
          ],
          "name": "stdout"
        }
      ]
    },
    {
      "cell_type": "code",
      "metadata": {
        "id": "SUBAbIia8wg0",
        "colab_type": "code",
        "colab": {
          "base_uri": "https://localhost:8080/",
          "height": 187
        },
        "outputId": "13fc676f-4306-472e-b5fa-ceab3714fa13"
      },
      "source": [
        "!tail Week0-part_gender_height_weight.csv"
      ],
      "execution_count": 3,
      "outputs": [
        {
          "output_type": "stream",
          "text": [
            "\"Female\",67.519733141364,163.490831665133\n",
            "\"Female\",64.408825123937,139.604219139648\n",
            "\"Female\",65.0716653479706,137.629857954212\n",
            "\"Female\",61.5046182003953,122.286750997725\n",
            "\"Female\",62.788759576151,120.013226214053\n",
            "\"Female\",62.7434778192535,138.557941544823\n",
            "\"Female\",63.290223692792,133.292934706536\n",
            "\"Female\",62.7896653703462,132.230275678311\n",
            "\"Female\",64.863385916734,138.484541094995\n",
            "\"Female\",69.0342431307346,163.852461346571\n"
          ],
          "name": "stdout"
        }
      ]
    },
    {
      "cell_type": "markdown",
      "metadata": {
        "id": "r2rsOiejYD_j",
        "colab_type": "text"
      },
      "source": [
        "We start by simply reading the file and storing it. But we want to skip the first line as it is a header and does not have data. We also want to store the data instead of merely printing it. But we will print the first ten items to verify that all is well."
      ]
    },
    {
      "cell_type": "code",
      "metadata": {
        "id": "kER4ATmNYD_k",
        "colab_type": "code",
        "colab": {}
      },
      "source": [
        "PART_DATA = \"Week0-part_gender_height_weight.csv\"\n",
        "FULL_DATA = \"Week0-full_gender_height_weight.csv\""
      ],
      "execution_count": 0,
      "outputs": []
    },
    {
      "cell_type": "code",
      "metadata": {
        "id": "ulKDEpEzYD_o",
        "colab_type": "code",
        "outputId": "4fa7e83c-26bb-467d-b9b2-7cf3322e3d27",
        "colab": {
          "base_uri": "https://localhost:8080/",
          "height": 54
        }
      },
      "source": [
        "firstLine = True\n",
        "data = []\n",
        "for line in open(FULL_DATA):\n",
        "    if firstLine:\n",
        "        firstLine = False\n",
        "    else:\n",
        "        data.append(line)\n",
        "print(data[:10])"
      ],
      "execution_count": 9,
      "outputs": [
        {
          "output_type": "stream",
          "text": [
            "['\"Male\",73.847017017515,241.893563180437\\n', '\"Male\",68.7819040458903,162.310472521300\\n', '\"Male\",74.1101053917849,212.7408555565\\n', '\"Male\",71.7309784033377,220.042470303077\\n', '\"Male\",69.8817958611153,206.349800623871\\n', '\"Male\",67.2530156878065,152.212155757083\\n', '\"Male\",68.7850812516616,183.927888604031\\n', '\"Male\",68.3485155115879,167.971110489509\\n', '\"Male\",67.018949662883,175.92944039571\\n', '\"Male\",63.4564939783664,156.399676387112\\n']\n"
          ],
          "name": "stdout"
        }
      ]
    },
    {
      "cell_type": "markdown",
      "metadata": {
        "id": "2g8F-jC_YD_s",
        "colab_type": "text"
      },
      "source": [
        "As you can see, there are some extraneous stuff:\n",
        "  1. A \\n at the end of each line\n",
        "  2. The double quotes around the gender\n",
        "  3. Also the line is a single string separated by commas\n",
        "  \n",
        "We handle these issues in the next version "
      ]
    },
    {
      "cell_type": "markdown",
      "metadata": {
        "id": "7UJYyewULHdx",
        "colab_type": "text"
      },
      "source": [
        "### TASK 1: Read the different fields from the raw data and create a list of list with appropriate datatypes for each column."
      ]
    },
    {
      "cell_type": "code",
      "metadata": {
        "id": "f-e__NuQLCQZ",
        "colab_type": "code",
        "colab": {}
      },
      "source": [
        "def read_data(filename):\n",
        "  final_data = []\n",
        "  # Add code here\n",
        "\n",
        "  return final_data\n",
        "\n",
        "data = read_data(FULL_DATA)\n",
        "\n",
        "# NOTE: Data should be of format: [[\"Male\", 73.23, 241.34], [\"Female\", 56.32, 154.344], ....]\n"
      ],
      "execution_count": 0,
      "outputs": []
    },
    {
      "cell_type": "markdown",
      "metadata": {
        "id": "bVN9ab2LYD_x",
        "colab_type": "text"
      },
      "source": [
        "Now we need to convert inches to cm, pounds to kg and round these to the nearest integer and we are done. Here is the final code to do the same."
      ]
    },
    {
      "cell_type": "code",
      "metadata": {
        "id": "r-oOXVNTYD_z",
        "colab_type": "code",
        "colab": {
          "base_uri": "https://localhost:8080/",
          "height": 289
        },
        "outputId": "f32939e7-95de-47d2-d073-282a7e29a5a6"
      },
      "source": [
        "def read_data_2(filename):\n",
        "  final_data = []\n",
        "  # Add code here, but also convert inches to cm and pounds to kg and round to nearest integer while reading.\n",
        "  #NOTE: 1 inch = 2.54 cm, 1 pound = 0.4536 kg\n",
        "  i=0\n",
        "  # first=True\n",
        "  for line in open(filename):\n",
        "    i+=1\n",
        "\n",
        "    if(i>1 and i<10):\n",
        "      line=line.split(',')\n",
        "      n=len(line[0])\n",
        "      line[0]=line[0][1:n-1]\n",
        "      line[1]=float(line[1])*2.54\n",
        "      line[2]=float(line[2])*0.4536\n",
        "      line='\"'+line[0]+'\",'+str(line[1])+','+str(line[2])+'\\n'\n",
        "      print(line)\n",
        "\n",
        "    # final_data.append([line[0],line[1]*2.54,line[2]*0.4536])\n",
        "  return final_data\n",
        "\n",
        "# for line in open(FULL_DATA):\n",
        "#   print(line)\n",
        "data = read_data_2(FULL_DATA)\n"
      ],
      "execution_count": 23,
      "outputs": [
        {
          "output_type": "stream",
          "text": [
            "\"Male\",187.57142322448811,109.72292025864623\n",
            "\n",
            "\"Male\",174.70603627656138,73.62403033566169\n",
            "\n",
            "\"Male\",188.23966769513365,96.4992520804284\n",
            "\n",
            "\"Male\",182.19668514447775,99.81126452947574\n",
            "\n",
            "\"Male\",177.49976148723286,93.60026956298789\n",
            "\n",
            "\"Male\",170.8226598470285,69.04343385141284\n",
            "\n",
            "\"Male\",174.71410637922045,83.42969027078847\n",
            "\n",
            "\"Male\",173.60522939943328,76.19169571804127\n",
            "\n"
          ],
          "name": "stdout"
        }
      ]
    },
    {
      "cell_type": "markdown",
      "metadata": {
        "id": "7aieSly2YD_3",
        "colab_type": "text"
      },
      "source": [
        "One reason python is popular for Scientific Computing is the availability of libraries that do a lot of standard, grunt work in a few lines. We will see how the pandas library can make short work of all the above"
      ]
    },
    {
      "cell_type": "code",
      "metadata": {
        "id": "ixXqhUglYD_4",
        "colab_type": "code",
        "colab": {
          "base_uri": "https://localhost:8080/",
          "height": 419
        },
        "outputId": "2d90bbd8-1d9e-4099-d5a9-6cb19f1a51cb"
      },
      "source": [
        "import pandas as pd\n",
        "pd.read_csv(PART_DATA)"
      ],
      "execution_count": 24,
      "outputs": [
        {
          "output_type": "execute_result",
          "data": {
            "text/html": [
              "<div>\n",
              "<style scoped>\n",
              "    .dataframe tbody tr th:only-of-type {\n",
              "        vertical-align: middle;\n",
              "    }\n",
              "\n",
              "    .dataframe tbody tr th {\n",
              "        vertical-align: top;\n",
              "    }\n",
              "\n",
              "    .dataframe thead th {\n",
              "        text-align: right;\n",
              "    }\n",
              "</style>\n",
              "<table border=\"1\" class=\"dataframe\">\n",
              "  <thead>\n",
              "    <tr style=\"text-align: right;\">\n",
              "      <th></th>\n",
              "      <th>Gender</th>\n",
              "      <th>Height</th>\n",
              "      <th>Weight</th>\n",
              "    </tr>\n",
              "  </thead>\n",
              "  <tbody>\n",
              "    <tr>\n",
              "      <th>0</th>\n",
              "      <td>Male</td>\n",
              "      <td>69.179858</td>\n",
              "      <td>192.014335</td>\n",
              "    </tr>\n",
              "    <tr>\n",
              "      <th>1</th>\n",
              "      <td>Male</td>\n",
              "      <td>66.471275</td>\n",
              "      <td>172.773723</td>\n",
              "    </tr>\n",
              "    <tr>\n",
              "      <th>2</th>\n",
              "      <td>Male</td>\n",
              "      <td>66.202348</td>\n",
              "      <td>159.390324</td>\n",
              "    </tr>\n",
              "    <tr>\n",
              "      <th>3</th>\n",
              "      <td>Male</td>\n",
              "      <td>66.316232</td>\n",
              "      <td>170.593858</td>\n",
              "    </tr>\n",
              "    <tr>\n",
              "      <th>4</th>\n",
              "      <td>Male</td>\n",
              "      <td>73.815386</td>\n",
              "      <td>231.374508</td>\n",
              "    </tr>\n",
              "    <tr>\n",
              "      <th>...</th>\n",
              "      <td>...</td>\n",
              "      <td>...</td>\n",
              "      <td>...</td>\n",
              "    </tr>\n",
              "    <tr>\n",
              "      <th>195</th>\n",
              "      <td>Female</td>\n",
              "      <td>62.743478</td>\n",
              "      <td>138.557942</td>\n",
              "    </tr>\n",
              "    <tr>\n",
              "      <th>196</th>\n",
              "      <td>Female</td>\n",
              "      <td>63.290224</td>\n",
              "      <td>133.292935</td>\n",
              "    </tr>\n",
              "    <tr>\n",
              "      <th>197</th>\n",
              "      <td>Female</td>\n",
              "      <td>62.789665</td>\n",
              "      <td>132.230276</td>\n",
              "    </tr>\n",
              "    <tr>\n",
              "      <th>198</th>\n",
              "      <td>Female</td>\n",
              "      <td>64.863386</td>\n",
              "      <td>138.484541</td>\n",
              "    </tr>\n",
              "    <tr>\n",
              "      <th>199</th>\n",
              "      <td>Female</td>\n",
              "      <td>69.034243</td>\n",
              "      <td>163.852461</td>\n",
              "    </tr>\n",
              "  </tbody>\n",
              "</table>\n",
              "<p>200 rows × 3 columns</p>\n",
              "</div>"
            ],
            "text/plain": [
              "     Gender     Height      Weight\n",
              "0      Male  69.179858  192.014335\n",
              "1      Male  66.471275  172.773723\n",
              "2      Male  66.202348  159.390324\n",
              "3      Male  66.316232  170.593858\n",
              "4      Male  73.815386  231.374508\n",
              "..      ...        ...         ...\n",
              "195  Female  62.743478  138.557942\n",
              "196  Female  63.290224  133.292935\n",
              "197  Female  62.789665  132.230276\n",
              "198  Female  64.863386  138.484541\n",
              "199  Female  69.034243  163.852461\n",
              "\n",
              "[200 rows x 3 columns]"
            ]
          },
          "metadata": {
            "tags": []
          },
          "execution_count": 24
        }
      ]
    },
    {
      "cell_type": "markdown",
      "metadata": {
        "id": "esEj3TzGYD_9",
        "colab_type": "text"
      },
      "source": [
        "As you can see, pandas gives you a nice display! It figured out the column titles and numbered the data also. It actually loads the data into a dataframe, and we can treat each column as a dictionary whose key is the column name and value is the actual data in the column. Note that the datatype has been inferred too."
      ]
    },
    {
      "cell_type": "code",
      "metadata": {
        "id": "LtMKJ3F6YD__",
        "colab_type": "code",
        "colab": {
          "base_uri": "https://localhost:8080/",
          "height": 34
        },
        "outputId": "dad17a06-1131-4b6a-e6f6-3b31b0327804"
      },
      "source": [
        "data = pd.read_csv(FULL_DATA)\n",
        "type(data['Gender']), type(data['Height'][1]), type(data['Weight'][30])"
      ],
      "execution_count": 25,
      "outputs": [
        {
          "output_type": "execute_result",
          "data": {
            "text/plain": [
              "(pandas.core.series.Series, numpy.float64, numpy.float64)"
            ]
          },
          "metadata": {
            "tags": []
          },
          "execution_count": 25
        }
      ]
    },
    {
      "cell_type": "code",
      "metadata": {
        "id": "6CtN_XiItRHz",
        "colab_type": "code",
        "colab": {
          "base_uri": "https://localhost:8080/",
          "height": 34
        },
        "outputId": "90d48537-8eaf-496f-9389-80dbcc20b6cc"
      },
      "source": [
        "data[\"Gender\"][21]"
      ],
      "execution_count": 26,
      "outputs": [
        {
          "output_type": "execute_result",
          "data": {
            "text/plain": [
              "'Male'"
            ]
          },
          "metadata": {
            "tags": []
          },
          "execution_count": 26
        }
      ]
    },
    {
      "cell_type": "code",
      "metadata": {
        "id": "r17T2k1YYEAI",
        "colab_type": "code",
        "colab": {
          "base_uri": "https://localhost:8080/",
          "height": 221
        },
        "outputId": "b94ced03-fa5d-44c3-b3f1-7ad170c5ec0f"
      },
      "source": [
        "data.Weight"
      ],
      "execution_count": 27,
      "outputs": [
        {
          "output_type": "execute_result",
          "data": {
            "text/plain": [
              "0       241.893563\n",
              "1       162.310473\n",
              "2       212.740856\n",
              "3       220.042470\n",
              "4       206.349801\n",
              "           ...    \n",
              "9995    136.777454\n",
              "9996    170.867906\n",
              "9997    128.475319\n",
              "9998    163.852461\n",
              "9999    113.649103\n",
              "Name: Weight, Length: 10000, dtype: float64"
            ]
          },
          "metadata": {
            "tags": []
          },
          "execution_count": 27
        }
      ]
    },
    {
      "cell_type": "code",
      "metadata": {
        "id": "p8QYKPM3ShBV",
        "colab_type": "code",
        "colab": {
          "base_uri": "https://localhost:8080/",
          "height": 221
        },
        "outputId": "f31051a7-e08b-4c06-cf39-2bad8039af16"
      },
      "source": [
        "df = pd.read_csv(PART_DATA, header=0, names=[\"GEN\", \"HT\", \"WT\"])\n",
        "df.GEN"
      ],
      "execution_count": 28,
      "outputs": [
        {
          "output_type": "execute_result",
          "data": {
            "text/plain": [
              "0        Male\n",
              "1        Male\n",
              "2        Male\n",
              "3        Male\n",
              "4        Male\n",
              "        ...  \n",
              "195    Female\n",
              "196    Female\n",
              "197    Female\n",
              "198    Female\n",
              "199    Female\n",
              "Name: GEN, Length: 200, dtype: object"
            ]
          },
          "metadata": {
            "tags": []
          },
          "execution_count": 28
        }
      ]
    },
    {
      "cell_type": "markdown",
      "metadata": {
        "id": "5uQ8gTIFYEAM",
        "colab_type": "text"
      },
      "source": [
        "Pandas gives you even more flexibility as part of the read_csv function. We can attach converters to selected columns. "
      ]
    },
    {
      "cell_type": "code",
      "metadata": {
        "id": "0vKu3MiYYEAN",
        "colab_type": "code",
        "colab": {}
      },
      "source": [
        "def inches2cms(s):\n",
        "    return int(float(s) * 2.54 + 0.5)\n",
        "def pounds2kgs(s):\n",
        "    return int(float(s) * 0.4536 + 0.5)"
      ],
      "execution_count": 0,
      "outputs": []
    },
    {
      "cell_type": "code",
      "metadata": {
        "id": "NHVW1d9cYEAS",
        "colab_type": "code",
        "colab": {
          "base_uri": "https://localhost:8080/",
          "height": 419
        },
        "outputId": "fa50c271-6e5e-4f29-c8e6-917eeb87124a"
      },
      "source": [
        "pd.read_csv(FULL_DATA, converters={'Height':inches2cms, 'Weight':pounds2kgs})"
      ],
      "execution_count": 30,
      "outputs": [
        {
          "output_type": "execute_result",
          "data": {
            "text/html": [
              "<div>\n",
              "<style scoped>\n",
              "    .dataframe tbody tr th:only-of-type {\n",
              "        vertical-align: middle;\n",
              "    }\n",
              "\n",
              "    .dataframe tbody tr th {\n",
              "        vertical-align: top;\n",
              "    }\n",
              "\n",
              "    .dataframe thead th {\n",
              "        text-align: right;\n",
              "    }\n",
              "</style>\n",
              "<table border=\"1\" class=\"dataframe\">\n",
              "  <thead>\n",
              "    <tr style=\"text-align: right;\">\n",
              "      <th></th>\n",
              "      <th>Gender</th>\n",
              "      <th>Height</th>\n",
              "      <th>Weight</th>\n",
              "    </tr>\n",
              "  </thead>\n",
              "  <tbody>\n",
              "    <tr>\n",
              "      <th>0</th>\n",
              "      <td>Male</td>\n",
              "      <td>188</td>\n",
              "      <td>110</td>\n",
              "    </tr>\n",
              "    <tr>\n",
              "      <th>1</th>\n",
              "      <td>Male</td>\n",
              "      <td>175</td>\n",
              "      <td>74</td>\n",
              "    </tr>\n",
              "    <tr>\n",
              "      <th>2</th>\n",
              "      <td>Male</td>\n",
              "      <td>188</td>\n",
              "      <td>96</td>\n",
              "    </tr>\n",
              "    <tr>\n",
              "      <th>3</th>\n",
              "      <td>Male</td>\n",
              "      <td>182</td>\n",
              "      <td>100</td>\n",
              "    </tr>\n",
              "    <tr>\n",
              "      <th>4</th>\n",
              "      <td>Male</td>\n",
              "      <td>177</td>\n",
              "      <td>94</td>\n",
              "    </tr>\n",
              "    <tr>\n",
              "      <th>...</th>\n",
              "      <td>...</td>\n",
              "      <td>...</td>\n",
              "      <td>...</td>\n",
              "    </tr>\n",
              "    <tr>\n",
              "      <th>9995</th>\n",
              "      <td>Female</td>\n",
              "      <td>168</td>\n",
              "      <td>62</td>\n",
              "    </tr>\n",
              "    <tr>\n",
              "      <th>9996</th>\n",
              "      <td>Female</td>\n",
              "      <td>170</td>\n",
              "      <td>78</td>\n",
              "    </tr>\n",
              "    <tr>\n",
              "      <th>9997</th>\n",
              "      <td>Female</td>\n",
              "      <td>162</td>\n",
              "      <td>58</td>\n",
              "    </tr>\n",
              "    <tr>\n",
              "      <th>9998</th>\n",
              "      <td>Female</td>\n",
              "      <td>175</td>\n",
              "      <td>74</td>\n",
              "    </tr>\n",
              "    <tr>\n",
              "      <th>9999</th>\n",
              "      <td>Female</td>\n",
              "      <td>157</td>\n",
              "      <td>52</td>\n",
              "    </tr>\n",
              "  </tbody>\n",
              "</table>\n",
              "<p>10000 rows × 3 columns</p>\n",
              "</div>"
            ],
            "text/plain": [
              "      Gender  Height  Weight\n",
              "0       Male     188     110\n",
              "1       Male     175      74\n",
              "2       Male     188      96\n",
              "3       Male     182     100\n",
              "4       Male     177      94\n",
              "...      ...     ...     ...\n",
              "9995  Female     168      62\n",
              "9996  Female     170      78\n",
              "9997  Female     162      58\n",
              "9998  Female     175      74\n",
              "9999  Female     157      52\n",
              "\n",
              "[10000 rows x 3 columns]"
            ]
          },
          "metadata": {
            "tags": []
          },
          "execution_count": 30
        }
      ]
    },
    {
      "cell_type": "markdown",
      "metadata": {
        "id": "sosLKGdxYEAV",
        "colab_type": "text"
      },
      "source": [
        "So our final code will be"
      ]
    },
    {
      "cell_type": "code",
      "metadata": {
        "id": "ZoZ060PkYEAW",
        "colab_type": "code",
        "colab": {
          "base_uri": "https://localhost:8080/",
          "height": 359
        },
        "outputId": "4abaacc9-2a41-4b25-9d46-e250003a51b7"
      },
      "source": [
        "import pandas as pd\n",
        "\n",
        "def inches2cms(s):\n",
        "    return int(float(s) * 2.54 + 0.5)\n",
        "def pounds2kgs(s):\n",
        "    return int(float(s) * 0.4536 + 0.5)\n",
        "data = pd.read_csv(FULL_DATA, converters={'Height':inches2cms, 'Weight':pounds2kgs})\n",
        "data[:10]"
      ],
      "execution_count": 31,
      "outputs": [
        {
          "output_type": "execute_result",
          "data": {
            "text/html": [
              "<div>\n",
              "<style scoped>\n",
              "    .dataframe tbody tr th:only-of-type {\n",
              "        vertical-align: middle;\n",
              "    }\n",
              "\n",
              "    .dataframe tbody tr th {\n",
              "        vertical-align: top;\n",
              "    }\n",
              "\n",
              "    .dataframe thead th {\n",
              "        text-align: right;\n",
              "    }\n",
              "</style>\n",
              "<table border=\"1\" class=\"dataframe\">\n",
              "  <thead>\n",
              "    <tr style=\"text-align: right;\">\n",
              "      <th></th>\n",
              "      <th>Gender</th>\n",
              "      <th>Height</th>\n",
              "      <th>Weight</th>\n",
              "    </tr>\n",
              "  </thead>\n",
              "  <tbody>\n",
              "    <tr>\n",
              "      <th>0</th>\n",
              "      <td>Male</td>\n",
              "      <td>188</td>\n",
              "      <td>110</td>\n",
              "    </tr>\n",
              "    <tr>\n",
              "      <th>1</th>\n",
              "      <td>Male</td>\n",
              "      <td>175</td>\n",
              "      <td>74</td>\n",
              "    </tr>\n",
              "    <tr>\n",
              "      <th>2</th>\n",
              "      <td>Male</td>\n",
              "      <td>188</td>\n",
              "      <td>96</td>\n",
              "    </tr>\n",
              "    <tr>\n",
              "      <th>3</th>\n",
              "      <td>Male</td>\n",
              "      <td>182</td>\n",
              "      <td>100</td>\n",
              "    </tr>\n",
              "    <tr>\n",
              "      <th>4</th>\n",
              "      <td>Male</td>\n",
              "      <td>177</td>\n",
              "      <td>94</td>\n",
              "    </tr>\n",
              "    <tr>\n",
              "      <th>5</th>\n",
              "      <td>Male</td>\n",
              "      <td>171</td>\n",
              "      <td>69</td>\n",
              "    </tr>\n",
              "    <tr>\n",
              "      <th>6</th>\n",
              "      <td>Male</td>\n",
              "      <td>175</td>\n",
              "      <td>83</td>\n",
              "    </tr>\n",
              "    <tr>\n",
              "      <th>7</th>\n",
              "      <td>Male</td>\n",
              "      <td>174</td>\n",
              "      <td>76</td>\n",
              "    </tr>\n",
              "    <tr>\n",
              "      <th>8</th>\n",
              "      <td>Male</td>\n",
              "      <td>170</td>\n",
              "      <td>80</td>\n",
              "    </tr>\n",
              "    <tr>\n",
              "      <th>9</th>\n",
              "      <td>Male</td>\n",
              "      <td>161</td>\n",
              "      <td>71</td>\n",
              "    </tr>\n",
              "  </tbody>\n",
              "</table>\n",
              "</div>"
            ],
            "text/plain": [
              "  Gender  Height  Weight\n",
              "0   Male     188     110\n",
              "1   Male     175      74\n",
              "2   Male     188      96\n",
              "3   Male     182     100\n",
              "4   Male     177      94\n",
              "5   Male     171      69\n",
              "6   Male     175      83\n",
              "7   Male     174      76\n",
              "8   Male     170      80\n",
              "9   Male     161      71"
            ]
          },
          "metadata": {
            "tags": []
          },
          "execution_count": 31
        }
      ]
    },
    {
      "cell_type": "markdown",
      "metadata": {
        "collapsed": true,
        "id": "sSJ6H1yrYEAd",
        "colab_type": "text"
      },
      "source": [
        "### Plotting Excercises\n"
      ]
    },
    {
      "cell_type": "markdown",
      "metadata": {
        "id": "LOq0zW03PBwD",
        "colab_type": "text"
      },
      "source": [
        "Plot the height and weight of the samples in a scatter plot with different markers/colors for male and female."
      ]
    },
    {
      "cell_type": "code",
      "metadata": {
        "id": "IfdWvCgUYEAj",
        "colab_type": "code",
        "colab": {
          "base_uri": "https://localhost:8080/",
          "height": 282
        },
        "outputId": "2354857d-a081-4439-d713-052da29300a7"
      },
      "source": [
        "# Code here\n",
        "import matplotlib.pyplot as plt\n",
        "\n",
        "\n",
        "df1 = data[data['Gender']=='Male']\n",
        "df2 = data[data['Gender']=='Female']\n",
        "\n",
        "plt.scatter(df1.Height,df1.Weight,color='Green',alpha=0.4,label=\"Men\")\n",
        "\n",
        "plt.scatter(df2.Height,df2.Weight,color='Blue',alpha=0.4,label=\"Women\")\n",
        "\n",
        "plt.legend()\n",
        "plt.plot()\n"
      ],
      "execution_count": 63,
      "outputs": [
        {
          "output_type": "execute_result",
          "data": {
            "text/plain": [
              "[]"
            ]
          },
          "metadata": {
            "tags": []
          },
          "execution_count": 63
        },
        {
          "output_type": "display_data",
          "data": {
            "image/png": "[encoded data removed]",
            "text/plain": [
              "<Figure size 432x288 with 1 Axes>"
            ]
          },
          "metadata": {
            "tags": [],
            "needs_background": "light"
          }
        }
      ]
    },
    {
      "cell_type": "markdown",
      "metadata": {
        "id": "7CPx-CgrPUIO",
        "colab_type": "text"
      },
      "source": [
        "Plot the height and weight of all samples in a scatter plot. Include markers for people who are overweight. Men with weight > 100 ad women with weight > 80 can be considered overweight."
      ]
    },
    {
      "cell_type": "code",
      "metadata": {
        "id": "oJ0ZPXXYYEAn",
        "colab_type": "code",
        "colab": {
          "base_uri": "https://localhost:8080/",
          "height": 282
        },
        "outputId": "b8ffb9b0-dd8a-4c75-d513-92f386abf253"
      },
      "source": [
        "# Code here\n",
        "df1 = data[data['Gender']=='Male']\n",
        "\n",
        "df2 = data[data['Gender']=='Female']\n",
        "\n",
        "df11= df1[df1['Weight']<=100]\n",
        "\n",
        "\n",
        "df22= df2[df2['Weight']<=80]\n",
        "\n",
        "plt.scatter(df11.Height,df11.Weight,color='Green',alpha=0.2,label=\"Men\")\n",
        "\n",
        "plt.scatter(df22.Height,df22.Weight,color='Blue',alpha=0.4,label=\"Women\")\n",
        "\n",
        "\n",
        "df111= df1[df1['Weight']>100]\n",
        "\n",
        "\n",
        "df222= df2[df2['Weight']>80]\n",
        "\n",
        "plt.scatter(df111.Height,df111.Weight,color='Red',alpha=0.4,label=\"Overweight\")\n",
        "\n",
        "plt.scatter(df222.Height,df222.Weight,color='Red',alpha=0.4)\n",
        "plt.legend()\n",
        "plt.plot()\n"
      ],
      "execution_count": 62,
      "outputs": [
        {
          "output_type": "execute_result",
          "data": {
            "text/plain": [
              "[]"
            ]
          },
          "metadata": {
            "tags": []
          },
          "execution_count": 62
        },
        {
          "output_type": "display_data",
          "data": {
            "image/png": "[encoded data removed]",
            "text/plain": [
              "<Figure size 432x288 with 1 Axes>"
            ]
          },
          "metadata": {
            "tags": [],
            "needs_background": "light"
          }
        }
      ]
    },
    {
      "cell_type": "markdown",
      "metadata": {
        "colab_type": "text",
        "id": "7V0azfEyQQop"
      },
      "source": [
        "Plot box plots for height in men and women. You can read more about box plots here: https://towardsdatascience.com/understanding-boxplots-5e2df7bcbd51"
      ]
    },
    {
      "cell_type": "code",
      "metadata": {
        "id": "LDAl0Dn7YEAs",
        "colab_type": "code",
        "colab": {
          "base_uri": "https://localhost:8080/",
          "height": 281
        },
        "outputId": "c0169c30-7ce1-4fb7-a9e4-11bea7b1f8fd"
      },
      "source": [
        "# Code here\n",
        "#Men\n",
        "fig, ax = plt.subplots(nrows=1, ncols=2,figsize=(8, 4))\n",
        "ax[0].boxplot(df1.Height)\n",
        "ax[0].title.set_text('Men')\n",
        "ax[1].boxplot(df2.Height)\n",
        "ax[1].title.set_text('Women')"
      ],
      "execution_count": 61,
      "outputs": [
        {
          "output_type": "display_data",
          "data": {
            "image/png": "[encoded data removed]",
            "text/plain": [
              "<Figure size 576x288 with 2 Axes>"
            ]
          },
          "metadata": {
            "tags": [],
            "needs_background": "light"
          }
        }
      ]
    },
    {
      "cell_type": "code",
      "metadata": {
        "id": "hNfvMO4t-KBh",
        "colab_type": "code",
        "colab": {}
      },
      "source": [
        ""
      ],
      "execution_count": 0,
      "outputs": []
    }
  ]
}